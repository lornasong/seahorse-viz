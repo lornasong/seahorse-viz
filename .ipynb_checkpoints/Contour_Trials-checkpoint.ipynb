{
 "metadata": {
  "name": "",
  "signature": "sha256:8f861058f391e4eea8b94fd34ac9cc906e38764028074d44b9dfe5865876815b"
 },
 "nbformat": 3,
 "nbformat_minor": 0,
 "worksheets": [
  {
   "cells": [
    {
     "cell_type": "code",
     "collapsed": false,
     "input": [
      "import pandas as pd\n",
      "import matplotlib.pyplot as plt\n",
      "import numpy as np\n",
      "%matplotlib inline"
     ],
     "language": "python",
     "metadata": {},
     "outputs": [],
     "prompt_number": 1
    },
    {
     "cell_type": "code",
     "collapsed": false,
     "input": [
      "dive = pd.read_csv(\"/Users/lornasong/pydir/sh-data-format/dive_data_12.1.csv\",\n",
      "                   index_col = None,  header = 0,  low_memory = False,  na_values = '')\n",
      "seahorse = pd.read_csv(\"/Users/lornasong/pydir/sh-data-format/seahorse_data_12.1.csv\",\n",
      "                       index_col = None,  header = 0,  low_memory = False,  na_values = '')"
     ],
     "language": "python",
     "metadata": {},
     "outputs": [],
     "prompt_number": 45
    },
    {
     "cell_type": "code",
     "collapsed": false,
     "input": [
      "x=np.linspace(-3,3,40)\n",
      "y=np.linspace(-3,3,40)\n",
      "\n",
      "x, y= np.meshgrid(x,y)\n",
      "z=x+y\n",
      "plt.contour(x,y,z)\n",
      "print x\n",
      "print y\n",
      "print z\n"
     ],
     "language": "python",
     "metadata": {},
     "outputs": [
      {
       "output_type": "stream",
       "stream": "stdout",
       "text": [
        "[[-3.         -2.84615385 -2.69230769 ...,  2.69230769  2.84615385  3.        ]\n",
        " [-3.         -2.84615385 -2.69230769 ...,  2.69230769  2.84615385  3.        ]\n",
        " [-3.         -2.84615385 -2.69230769 ...,  2.69230769  2.84615385  3.        ]\n",
        " ..., \n",
        " [-3.         -2.84615385 -2.69230769 ...,  2.69230769  2.84615385  3.        ]\n",
        " [-3.         -2.84615385 -2.69230769 ...,  2.69230769  2.84615385  3.        ]\n",
        " [-3.         -2.84615385 -2.69230769 ...,  2.69230769  2.84615385  3.        ]]\n",
        "[[-3.         -3.         -3.         ..., -3.         -3.         -3.        ]\n",
        " [-2.84615385 -2.84615385 -2.84615385 ..., -2.84615385 -2.84615385\n",
        "  -2.84615385]\n",
        " [-2.69230769 -2.69230769 -2.69230769 ..., -2.69230769 -2.69230769\n",
        "  -2.69230769]\n",
        " ..., \n",
        " [ 2.69230769  2.69230769  2.69230769 ...,  2.69230769  2.69230769\n",
        "   2.69230769]\n",
        " [ 2.84615385  2.84615385  2.84615385 ...,  2.84615385  2.84615385\n",
        "   2.84615385]\n",
        " [ 3.          3.          3.         ...,  3.          3.          3.        ]]\n",
        "[[ -6.00000000e+00  -5.84615385e+00  -5.69230769e+00 ...,  -3.07692308e-01\n",
        "   -1.53846154e-01   0.00000000e+00]\n",
        " [ -5.84615385e+00  -5.69230769e+00  -5.53846154e+00 ...,  -1.53846154e-01\n",
        "    4.44089210e-16   1.53846154e-01]\n",
        " [ -5.69230769e+00  -5.53846154e+00  -5.38461538e+00 ...,   0.00000000e+00\n",
        "    1.53846154e-01   3.07692308e-01]\n",
        " ..., \n",
        " [ -3.07692308e-01  -1.53846154e-01   0.00000000e+00 ...,   5.38461538e+00\n",
        "    5.53846154e+00   5.69230769e+00]\n",
        " [ -1.53846154e-01   4.44089210e-16   1.53846154e-01 ...,   5.53846154e+00\n",
        "    5.69230769e+00   5.84615385e+00]\n",
        " [  0.00000000e+00   1.53846154e-01   3.07692308e-01 ...,   5.69230769e+00\n",
        "    5.84615385e+00   6.00000000e+00]]\n"
       ]
      },
      {
       "metadata": {},
       "output_type": "display_data",
       "png": "[encoded data removed]",
       "text": [
        "<matplotlib.figure.Figure at 0x10a45a1d0>"
       ]
      }
     ],
     "prompt_number": 94
    },
    {
     "cell_type": "code",
     "collapsed": false,
     "input": [
      "import matplotlib.mlab as mlab\n",
      "delta = 0.025\n",
      "x = np.arange(-3.0, 3.0, delta)\n",
      "y = np.arange(-2.0, 2.0, delta)\n",
      "X, Y = np.meshgrid(x, y)\n",
      "Z1 = mlab.bivariate_normal(X, Y, 1.0, 1.0, 0.0, 0.0)\n",
      "Z2 = mlab.bivariate_normal(X, Y, 1.5, 0.5, 1, 1)\n",
      "Z1"
     ],
     "language": "python",
     "metadata": {},
     "outputs": [
      {
       "metadata": {},
       "output_type": "pyout",
       "prompt_number": 20,
       "text": [
        "array([[ 0.00023928,  0.00025784,  0.00027766, ...,  0.00029881,\n",
        "         0.00027766,  0.00025784],\n",
        "       [ 0.00025147,  0.00027097,  0.0002918 , ...,  0.00031404,\n",
        "         0.0002918 ,  0.00027097],\n",
        "       [ 0.00026411,  0.0002846 ,  0.00030647, ...,  0.00032983,\n",
        "         0.00030647,  0.0002846 ],\n",
        "       ..., \n",
        "       [ 0.00027722,  0.00029872,  0.00032168, ...,  0.0003462 ,\n",
        "         0.00032168,  0.00029872],\n",
        "       [ 0.00026411,  0.0002846 ,  0.00030647, ...,  0.00032983,\n",
        "         0.00030647,  0.0002846 ],\n",
        "       [ 0.00025147,  0.00027097,  0.0002918 , ...,  0.00031404,\n",
        "         0.0002918 ,  0.00027097]])"
       ]
      }
     ],
     "prompt_number": 20
    },
    {
     "cell_type": "code",
     "collapsed": false,
     "input": [
      "#plt.contour(dive['LONGITUDE'], dive['LATITUDE'], dive['DEPTH'])\n",
      "df = pd.DataFrame()\n",
      "df['a'] = dive['SITE']\n",
      "df['x'] = dive['LATITUDE']\n",
      "df['y'] = dive['LONGITUDE']\n",
      "df['z'] = dive['DEPTH']\n",
      "df = df.drop_duplicates(['a'])\n",
      "#df.pivot(index = 'y', columns = 'x', values = 'z')\n",
      "#z = pd.pivot_table(df, values = 'z', index = 'y', cols = 'x')\n",
      "#andas.pivot_table(df,values='count',index='site_id',cols='week')\n",
      "\n",
      "#x = z.columns.values.tolist()\n",
      "#y = z.index.values.tolist()\n",
      "print len(df['x'])\n",
      "print len(df['y'])\n",
      "#z = z.as_matrix()\n",
      "#z.to_csv(\"/Users/lornasong/test.csv\")\n",
      "x2, y2 = np.meshgrid(x, y)\n",
      "\n",
      "xi = np.linspace(min(x), max(x), 586)\n",
      "yi = np.linspace(min(y), max(y), 586)\n",
      "z = df['z'].as_matrix()\n",
      "len(z)"
     ],
     "language": "python",
     "metadata": {},
     "outputs": [
      {
       "output_type": "stream",
       "stream": "stdout",
       "text": [
        "586\n",
        "586\n"
       ]
      },
      {
       "metadata": {},
       "output_type": "pyout",
       "prompt_number": 179,
       "text": [
        "586"
       ]
      }
     ],
     "prompt_number": 179
    },
    {
     "cell_type": "code",
     "collapsed": false,
     "input": [
      "from scipy.interpolate import griddata\n",
      "df = pd.DataFrame()\n",
      "df['a'] = dive['SITE']\n",
      "df['x'] = dive['LATITUDE']\n",
      "df['y'] = dive['LONGITUDE']\n",
      "df['z'] = dive['DEPTH']\n",
      "df = df.drop_duplicates(['a'])\n",
      "\n",
      "x = df['x']\n",
      "y = df['y']\n",
      "z = df['z'].as_matrix()\n",
      "print len(x)\n",
      "print len(y)\n",
      "print len(z)\n",
      "xi = np.linspace(min(x), max(x), 586)\n",
      "yi = np.linspace(min(y), max(y), 586)\n",
      "zi = griddata((x, y), z, (xi[None,:], yi[:,None]), method='cubic')"
     ],
     "language": "python",
     "metadata": {},
     "outputs": []
    },
    {
     "cell_type": "code",
     "collapsed": false,
     "input": [
      "#plt.pcolor(x2, y2, z, 8)\n",
      "zi = griddata((x, y), z, (xi[None,:], yi[:,None]), method='cubic')\n",
      "plt.contour(xi,yi,z,15,linewidths=0.5,colors='k')"
     ],
     "language": "python",
     "metadata": {},
     "outputs": [
      {
       "metadata": {},
       "output_type": "pyout",
       "prompt_number": 160,
       "text": [
        "<matplotlib.contour.QuadContourSet instance at 0x1123a3dd0>"
       ]
      },
      {
       "metadata": {},
       "output_type": "display_data",
       "png": "[encoded data removed]",
       "text": [
        "<matplotlib.figure.Figure at 0x11134d890>"
       ]
      }
     ],
     "prompt_number": 160
    },
    {
     "cell_type": "code",
     "collapsed": false,
     "input": [
      "from scipy.interpolate import griddata\n",
      "xi = np.linspace(min(x), max(x), 556)\n",
      "yi = np.linspace(min(y), max(y), 545)\n",
      "zi = griddata((y, x), z, (yi[None,:], xi[:,None]), method='cubic')\n",
      "print len(x)\n",
      "print len(y)\n",
      "print len(xi)\n",
      "print len(yi)\n",
      "print z\n",
      "#contour(xi, yi, zi)"
     ],
     "language": "python",
     "metadata": {},
     "outputs": [
      {
       "ename": "ValueError",
       "evalue": "shape mismatch: two or more arrays have incompatible dimensions on axis 0.",
       "output_type": "pyerr",
       "traceback": [
        "\u001b[0;31m---------------------------------------------------------------------------\u001b[0m\n\u001b[0;31mValueError\u001b[0m                                Traceback (most recent call last)",
        "\u001b[0;32m<ipython-input-143-2e80dd1f800c>\u001b[0m in \u001b[0;36m<module>\u001b[0;34m()\u001b[0m\n\u001b[1;32m      2\u001b[0m \u001b[0mxi\u001b[0m \u001b[0;34m=\u001b[0m \u001b[0mnp\u001b[0m\u001b[0;34m.\u001b[0m\u001b[0mlinspace\u001b[0m\u001b[0;34m(\u001b[0m\u001b[0mmin\u001b[0m\u001b[0;34m(\u001b[0m\u001b[0mx\u001b[0m\u001b[0;34m)\u001b[0m\u001b[0;34m,\u001b[0m \u001b[0mmax\u001b[0m\u001b[0;34m(\u001b[0m\u001b[0mx\u001b[0m\u001b[0;34m)\u001b[0m\u001b[0;34m,\u001b[0m \u001b[0;36m556\u001b[0m\u001b[0;34m)\u001b[0m\u001b[0;34m\u001b[0m\u001b[0m\n\u001b[1;32m      3\u001b[0m \u001b[0myi\u001b[0m \u001b[0;34m=\u001b[0m \u001b[0mnp\u001b[0m\u001b[0;34m.\u001b[0m\u001b[0mlinspace\u001b[0m\u001b[0;34m(\u001b[0m\u001b[0mmin\u001b[0m\u001b[0;34m(\u001b[0m\u001b[0my\u001b[0m\u001b[0;34m)\u001b[0m\u001b[0;34m,\u001b[0m \u001b[0mmax\u001b[0m\u001b[0;34m(\u001b[0m\u001b[0my\u001b[0m\u001b[0;34m)\u001b[0m\u001b[0;34m,\u001b[0m \u001b[0;36m545\u001b[0m\u001b[0;34m)\u001b[0m\u001b[0;34m\u001b[0m\u001b[0m\n\u001b[0;32m----> 4\u001b[0;31m \u001b[0mzi\u001b[0m \u001b[0;34m=\u001b[0m \u001b[0mgriddata\u001b[0m\u001b[0;34m(\u001b[0m\u001b[0;34m(\u001b[0m\u001b[0my\u001b[0m\u001b[0;34m,\u001b[0m \u001b[0mx\u001b[0m\u001b[0;34m)\u001b[0m\u001b[0;34m,\u001b[0m \u001b[0mz\u001b[0m\u001b[0;34m,\u001b[0m \u001b[0;34m(\u001b[0m\u001b[0myi\u001b[0m\u001b[0;34m[\u001b[0m\u001b[0mNone\u001b[0m\u001b[0;34m,\u001b[0m\u001b[0;34m:\u001b[0m\u001b[0;34m]\u001b[0m\u001b[0;34m,\u001b[0m \u001b[0mxi\u001b[0m\u001b[0;34m[\u001b[0m\u001b[0;34m:\u001b[0m\u001b[0;34m,\u001b[0m\u001b[0mNone\u001b[0m\u001b[0;34m]\u001b[0m\u001b[0;34m)\u001b[0m\u001b[0;34m,\u001b[0m \u001b[0mmethod\u001b[0m\u001b[0;34m=\u001b[0m\u001b[0;34m'cubic'\u001b[0m\u001b[0;34m)\u001b[0m\u001b[0;34m\u001b[0m\u001b[0m\n\u001b[0m\u001b[1;32m      5\u001b[0m \u001b[0;32mprint\u001b[0m \u001b[0mlen\u001b[0m\u001b[0;34m(\u001b[0m\u001b[0mx\u001b[0m\u001b[0;34m)\u001b[0m\u001b[0;34m\u001b[0m\u001b[0m\n\u001b[1;32m      6\u001b[0m \u001b[0;32mprint\u001b[0m \u001b[0mlen\u001b[0m\u001b[0;34m(\u001b[0m\u001b[0my\u001b[0m\u001b[0;34m)\u001b[0m\u001b[0;34m\u001b[0m\u001b[0m\n",
        "\u001b[0;32m/System/Library/Frameworks/Python.framework/Versions/2.7/Extras/lib/python/scipy/interpolate/ndgriddata.pyc\u001b[0m in \u001b[0;36mgriddata\u001b[0;34m(points, values, xi, method, fill_value)\u001b[0m\n\u001b[1;32m    162\u001b[0m     \"\"\"\n\u001b[1;32m    163\u001b[0m \u001b[0;34m\u001b[0m\u001b[0m\n\u001b[0;32m--> 164\u001b[0;31m     \u001b[0mpoints\u001b[0m \u001b[0;34m=\u001b[0m \u001b[0m_ndim_coords_from_arrays\u001b[0m\u001b[0;34m(\u001b[0m\u001b[0mpoints\u001b[0m\u001b[0;34m)\u001b[0m\u001b[0;34m\u001b[0m\u001b[0m\n\u001b[0m\u001b[1;32m    165\u001b[0m \u001b[0;34m\u001b[0m\u001b[0m\n\u001b[1;32m    166\u001b[0m     \u001b[0;32mif\u001b[0m \u001b[0mpoints\u001b[0m\u001b[0;34m.\u001b[0m\u001b[0mndim\u001b[0m \u001b[0;34m<\u001b[0m \u001b[0;36m2\u001b[0m\u001b[0;34m:\u001b[0m\u001b[0;34m\u001b[0m\u001b[0m\n",
        "\u001b[0;32m/System/Library/Frameworks/Python.framework/Versions/2.7/Extras/lib/python/scipy/interpolate/interpnd.so\u001b[0m in \u001b[0;36mscipy.interpolate.interpnd._ndim_coords_from_arrays (scipy/interpolate/interpnd.c:3444)\u001b[0;34m()\u001b[0m\n",
        "\u001b[0;32m/Library/Python/2.7/site-packages/numpy-1.9.1-py2.7-macosx-10.10-intel.egg/numpy/lib/stride_tricks.pyc\u001b[0m in \u001b[0;36mbroadcast_arrays\u001b[0;34m(*args)\u001b[0m\n\u001b[1;32m     99\u001b[0m             \u001b[0;31m# There must be at least two non-1 lengths for this axis.\u001b[0m\u001b[0;34m\u001b[0m\u001b[0;34m\u001b[0m\u001b[0m\n\u001b[1;32m    100\u001b[0m             raise ValueError(\"shape mismatch: two or more arrays have \"\n\u001b[0;32m--> 101\u001b[0;31m                 \"incompatible dimensions on axis %r.\" % (axis,))\n\u001b[0m\u001b[1;32m    102\u001b[0m         \u001b[0;32melif\u001b[0m \u001b[0mlen\u001b[0m\u001b[0;34m(\u001b[0m\u001b[0munique\u001b[0m\u001b[0;34m)\u001b[0m \u001b[0;34m==\u001b[0m \u001b[0;36m2\u001b[0m\u001b[0;34m:\u001b[0m\u001b[0;34m\u001b[0m\u001b[0m\n\u001b[1;32m    103\u001b[0m             \u001b[0;31m# There is exactly one non-1 length. The common shape will take\u001b[0m\u001b[0;34m\u001b[0m\u001b[0;34m\u001b[0m\u001b[0m\n",
        "\u001b[0;31mValueError\u001b[0m: shape mismatch: two or more arrays have incompatible dimensions on axis 0."
       ]
      }
     ],
     "prompt_number": 143
    },
    {
     "cell_type": "code",
     "collapsed": false,
     "input": [
      "from scipy.interpolate import griddata\n",
      "import matplotlib.pyplot as plt\n",
      "import numpy.ma as ma\n",
      "from numpy.random import uniform, seed\n",
      "# make up some randomly distributed data\n",
      "seed(1234)\n",
      "npts = 200\n",
      "x = uniform(-2,2,npts)\n",
      "y = uniform(-2,2,npts)\n",
      "z = x*np.exp(-x**2-y**2)\n",
      "# define grid.\n",
      "xi = np.linspace(-2.1,2.1,100)\n",
      "yi = np.linspace(-2.1,2.1,100)\n",
      "z"
     ],
     "language": "python",
     "metadata": {},
     "outputs": [
      {
       "metadata": {},
       "output_type": "pyout",
       "prompt_number": 170,
       "text": [
        "array([-0.0068465 ,  0.03760847, -0.18035413,  0.0159917 ,  0.14235529,\n",
        "       -0.18762074, -0.01382712,  0.26498408,  0.02982371,  0.10138017,\n",
        "       -0.02565546,  0.00134006,  0.42768759,  0.27241642, -0.30212189,\n",
        "        0.17660251,  0.01178365, -0.03944611,  0.3296486 ,  0.00350131,\n",
        "       -0.31230356,  0.00831161, -0.00549935, -0.04286946,  0.06057765,\n",
        "        0.32004955, -0.25127976,  0.0813196 , -0.12584557,  0.22804278,\n",
        "        0.00901477, -0.16620865,  0.09854492, -0.00943158,  0.32823086,\n",
        "        0.21654258, -0.24414697,  0.01697399, -0.01671218,  0.10308903,\n",
        "       -0.00150406, -0.00893164, -0.00875956,  0.36747583,  0.02752182,\n",
        "        0.06776814, -0.00286664,  0.1827909 , -0.0111841 ,  0.00157874,\n",
        "       -0.07651381,  0.1221906 ,  0.23078142, -0.00132591,  0.35173447,\n",
        "        0.07269256,  0.06048464,  0.00992817,  0.05167141,  0.28414357,\n",
        "       -0.31406535,  0.22355697, -0.0295761 , -0.07341541, -0.04937673,\n",
        "       -0.03220691, -0.10307336,  0.0462823 , -0.02040128, -0.09711669,\n",
        "        0.24622633,  0.30749767, -0.09380461, -0.0039415 , -0.30489736,\n",
        "        0.01737959, -0.01142433,  0.08222168, -0.00225447, -0.37097057,\n",
        "       -0.00824605,  0.06711562,  0.09516162,  0.07049387,  0.38924442,\n",
        "       -0.19631132,  0.04235459,  0.10548168,  0.02965968, -0.10524027,\n",
        "       -0.07811416,  0.13413241,  0.0084453 ,  0.00164013, -0.05682802,\n",
        "        0.00644733,  0.12031113,  0.04752655, -0.05910155,  0.04141741,\n",
        "        0.16382276,  0.00939924,  0.26909897,  0.20054772,  0.05717955,\n",
        "       -0.04459969, -0.00913445,  0.32615866, -0.00304663,  0.05831526,\n",
        "       -0.20605774, -0.05083596, -0.00859459,  0.01524334,  0.02434266,\n",
        "       -0.17574729, -0.41114193, -0.07670322,  0.01199654,  0.30866189,\n",
        "        0.05451633,  0.10598843,  0.175906  ,  0.3314762 , -0.03681737,\n",
        "       -0.00807185, -0.11832254,  0.05651213, -0.00411129, -0.00333433,\n",
        "       -0.01727923,  0.31619621,  0.16517179, -0.00759446, -0.02037705,\n",
        "       -0.10659997,  0.00074817, -0.21191465, -0.04081381,  0.23485693,\n",
        "       -0.00155795,  0.01141236,  0.0143272 ,  0.00647822, -0.00342897,\n",
        "       -0.42491697,  0.10113602, -0.01946849,  0.05944131, -0.0492954 ,\n",
        "        0.02297696,  0.01178627, -0.36850492, -0.12816095,  0.00843925,\n",
        "        0.26334303,  0.01104047,  0.00321294,  0.02200892,  0.05170622,\n",
        "       -0.22567538,  0.37454274,  0.05083993,  0.00440798,  0.00457991,\n",
        "        0.15563154,  0.01147553, -0.01709892,  0.0379675 ,  0.03082215,\n",
        "        0.06423303, -0.40169301, -0.01094724,  0.15226816, -0.29785771,\n",
        "        0.13045375, -0.07031922,  0.10792392,  0.27925295,  0.42066974,\n",
        "        0.38487449, -0.010574  ,  0.17856061,  0.14767667, -0.09191142,\n",
        "       -0.05514748, -0.03068673,  0.18971751, -0.00914219, -0.39316757,\n",
        "        0.00820264, -0.03066468, -0.00519032,  0.37456794, -0.00816229,\n",
        "       -0.05849438,  0.34665901, -0.00955191,  0.08425282,  0.04027118])"
       ]
      }
     ],
     "prompt_number": 170
    },
    {
     "cell_type": "code",
     "collapsed": false,
     "input": [
      "# grid the data.\n",
      "zi = griddata((x, y), z, (xi[None,:], yi[:,None]), method='cubic')\n",
      "zi"
     ],
     "language": "python",
     "metadata": {},
     "outputs": [
      {
       "metadata": {},
       "output_type": "pyout",
       "prompt_number": 163,
       "text": [
        "array([[ nan,  nan,  nan, ...,  nan,  nan,  nan],\n",
        "       [ nan,  nan,  nan, ...,  nan,  nan,  nan],\n",
        "       [ nan,  nan,  nan, ...,  nan,  nan,  nan],\n",
        "       ..., \n",
        "       [ nan,  nan,  nan, ...,  nan,  nan,  nan],\n",
        "       [ nan,  nan,  nan, ...,  nan,  nan,  nan],\n",
        "       [ nan,  nan,  nan, ...,  nan,  nan,  nan]])"
       ]
      }
     ],
     "prompt_number": 163
    },
    {
     "cell_type": "code",
     "collapsed": false,
     "input": [
      "# contour the gridded data, plotting dots at the randomly spaced data points.\n",
      "CS =plt.contour(xi,yi,zi,15,linewidths=0.5,colors='k')\n",
      "#CS = plt.contourf(xi,yi,zi,15,cmap=plt.cm.jet)\n",
      "#plt.colorbar() # draw colorbar\n",
      "# plot data points.\n",
      "#plt.scatter(x,y,marker='o',c='b',s=5)\n",
      "#plt.xlim(-2,2)\n",
      "#plt.ylim(-2,2)\n",
      "#plt.title('griddata test (%d points)' % npts)\n",
      "plt.show()"
     ],
     "language": "python",
     "metadata": {},
     "outputs": [
      {
       "metadata": {},
       "output_type": "pyout",
       "prompt_number": 164,
       "text": [
        "<matplotlib.contour.QuadContourSet instance at 0x112391908>"
       ]
      },
      {
       "metadata": {},
       "output_type": "display_data",
       "png": "[encoded data removed]",
       "text": [
        "<matplotlib.figure.Figure at 0x10bb84490>"
       ]
      }
     ],
     "prompt_number": 164
    },
    {
     "cell_type": "code",
     "collapsed": false,
     "input": [],
     "language": "python",
     "metadata": {},
     "outputs": [],
     "prompt_number": 147
    },
    {
     "cell_type": "code",
     "collapsed": false,
     "input": [
      "xi"
     ],
     "language": "python",
     "metadata": {},
     "outputs": [
      {
       "metadata": {},
       "output_type": "pyout",
       "prompt_number": 151,
       "text": [
        "array([-2.1       , -2.05757576, -2.01515152, -1.97272727, -1.93030303,\n",
        "       -1.88787879, -1.84545455, -1.8030303 , -1.76060606, -1.71818182,\n",
        "       -1.67575758, -1.63333333, -1.59090909, -1.54848485, -1.50606061,\n",
        "       -1.46363636, -1.42121212, -1.37878788, -1.33636364, -1.29393939,\n",
        "       -1.25151515, -1.20909091, -1.16666667, -1.12424242, -1.08181818,\n",
        "       -1.03939394, -0.9969697 , -0.95454545, -0.91212121, -0.86969697,\n",
        "       -0.82727273, -0.78484848, -0.74242424, -0.7       , -0.65757576,\n",
        "       -0.61515152, -0.57272727, -0.53030303, -0.48787879, -0.44545455,\n",
        "       -0.4030303 , -0.36060606, -0.31818182, -0.27575758, -0.23333333,\n",
        "       -0.19090909, -0.14848485, -0.10606061, -0.06363636, -0.02121212,\n",
        "        0.02121212,  0.06363636,  0.10606061,  0.14848485,  0.19090909,\n",
        "        0.23333333,  0.27575758,  0.31818182,  0.36060606,  0.4030303 ,\n",
        "        0.44545455,  0.48787879,  0.53030303,  0.57272727,  0.61515152,\n",
        "        0.65757576,  0.7       ,  0.74242424,  0.78484848,  0.82727273,\n",
        "        0.86969697,  0.91212121,  0.95454545,  0.9969697 ,  1.03939394,\n",
        "        1.08181818,  1.12424242,  1.16666667,  1.20909091,  1.25151515,\n",
        "        1.29393939,  1.33636364,  1.37878788,  1.42121212,  1.46363636,\n",
        "        1.50606061,  1.54848485,  1.59090909,  1.63333333,  1.67575758,\n",
        "        1.71818182,  1.76060606,  1.8030303 ,  1.84545455,  1.88787879,\n",
        "        1.93030303,  1.97272727,  2.01515152,  2.05757576,  2.1       ])"
       ]
      }
     ],
     "prompt_number": 151
    },
    {
     "cell_type": "code",
     "collapsed": false,
     "input": [
      "len(zi)"
     ],
     "language": "python",
     "metadata": {},
     "outputs": [
      {
       "metadata": {},
       "output_type": "pyout",
       "prompt_number": 154,
       "text": [
        "100"
       ]
      }
     ],
     "prompt_number": 154
    },
    {
     "cell_type": "code",
     "collapsed": false,
     "input": [],
     "language": "python",
     "metadata": {},
     "outputs": []
    }
   ],
   "metadata": {}
  }
 ]
}