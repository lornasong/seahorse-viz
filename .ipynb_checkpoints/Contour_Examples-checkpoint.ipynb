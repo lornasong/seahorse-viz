{
 "metadata": {
  "name": "",
  "signature": "sha256:147e89dfe087d142c838ca3e1bfbdecbef42231b52665062b47c8264fbd52840"
 },
 "nbformat": 3,
 "nbformat_minor": 0,
 "worksheets": [
  {
   "cells": [
    {
     "cell_type": "code",
     "collapsed": false,
     "input": [
      "from scipy.interpolate import griddata\n",
      "import matplotlib.pyplot as plt\n",
      "import numpy.ma as ma\n",
      "import numpy as np\n",
      "from numpy.random import uniform, seed\n",
      "% matplotlib inline\n",
      "# make up some randomly distributed data\n",
      "seed(1234)\n",
      "npts = 10\n",
      "x = uniform(-2,2,npts)\n",
      "y = uniform(-2,2,npts)\n",
      "z = x*np.exp(-x**2-y**2)\n",
      "# define grid.\n",
      "xi = np.linspace(-2,2,10)\n",
      "yi = np.linspace(-2.1,2.1,10)"
     ],
     "language": "python",
     "metadata": {},
     "outputs": [],
     "prompt_number": 12
    },
    {
     "cell_type": "code",
     "collapsed": false,
     "input": [
      "xi"
     ],
     "language": "python",
     "metadata": {},
     "outputs": [
      {
       "metadata": {},
       "output_type": "pyout",
       "prompt_number": 13,
       "text": [
        "array([-2.        , -1.55555556, -1.11111111, -0.66666667, -0.22222222,\n",
        "        0.22222222,  0.66666667,  1.11111111,  1.55555556,  2.        ])"
       ]
      }
     ],
     "prompt_number": 13
    },
    {
     "cell_type": "code",
     "collapsed": false,
     "input": [
      "z"
     ],
     "language": "python",
     "metadata": {},
     "outputs": [
      {
       "metadata": {},
       "output_type": "pyout",
       "prompt_number": 9,
       "text": [
        "array([-0.19479239,  0.38476082, -0.13662319,  0.15039936,  0.24407034,\n",
        "       -0.3745375 , -0.40190749,  0.00639509,  0.01938019,  0.01505741])"
       ]
      }
     ],
     "prompt_number": 9
    },
    {
     "cell_type": "code",
     "collapsed": false,
     "input": [
      "zi = griddata((x, y), z, (xi[None,:], yi[:,None]), method='cubic')"
     ],
     "language": "python",
     "metadata": {},
     "outputs": [],
     "prompt_number": 10
    },
    {
     "cell_type": "code",
     "collapsed": false,
     "input": [
      "zi"
     ],
     "language": "python",
     "metadata": {},
     "outputs": [
      {
       "metadata": {},
       "output_type": "pyout",
       "prompt_number": 11,
       "text": [
        "array([[        nan,         nan,         nan,         nan,         nan,\n",
        "                nan,         nan,         nan,         nan,         nan],\n",
        "       [        nan,         nan,         nan,         nan,         nan,\n",
        "                nan,  0.11263284,  0.06189256,         nan,         nan],\n",
        "       [        nan,         nan,         nan,         nan,         nan,\n",
        "         0.20010872,  0.20182418,  0.13891878,         nan,         nan],\n",
        "       [        nan,         nan,         nan,  0.02212507,  0.15238957,\n",
        "         0.24936232,  0.27771247,  0.2088481 ,         nan,         nan],\n",
        "       [        nan,         nan,         nan, -0.18974572,  0.12192274,\n",
        "         0.30254925,  0.38637606,  0.25750643,         nan,         nan],\n",
        "       [        nan,         nan,         nan, -0.32492898, -0.05834161,\n",
        "         0.24435225,  0.36881919,  0.24943336,  0.11021479,         nan],\n",
        "       [        nan,         nan,         nan,         nan, -0.12150505,\n",
        "         0.07420755,  0.18371362,  0.18247267,  0.10361541,         nan],\n",
        "       [        nan,         nan,         nan,         nan,         nan,\n",
        "                nan,         nan,  0.08294985,  0.04072298,         nan],\n",
        "       [        nan,         nan,         nan,         nan,         nan,\n",
        "                nan,         nan,         nan,         nan,         nan],\n",
        "       [        nan,         nan,         nan,         nan,         nan,\n",
        "                nan,         nan,         nan,         nan,         nan]])"
       ]
      }
     ],
     "prompt_number": 11
    },
    {
     "cell_type": "code",
     "collapsed": false,
     "input": [],
     "language": "python",
     "metadata": {},
     "outputs": []
    }
   ],
   "metadata": {}
  }
 ]
}